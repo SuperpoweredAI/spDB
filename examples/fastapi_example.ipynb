{
 "cells": [
  {
   "cell_type": "markdown",
   "metadata": {},
   "source": [
    "## FastAPI Tutorial\n",
    "\n",
    "This requires uvicorn and fastapi to be installed by running\n",
    "\n",
    "`pip install fastapi uvicorn`\n",
    "\n",
    "In order to start the FastAPI, open up a terminal and run the following command (This must be done from the root directory of this project):\n",
    "\n",
    "`uvicorn api.fastapi:app --host 0.0.0.0 --port 8000`"
   ]
  },
  {
   "cell_type": "markdown",
   "metadata": {},
   "source": [
    "### Setup the environment\n",
    "\n",
    "Load in the necessary packages and append the paths needed"
   ]
  },
  {
   "cell_type": "code",
   "execution_count": 1,
   "metadata": {},
   "outputs": [],
   "source": [
    "import requests\n",
    "import pickle\n",
    "import sys\n",
    "import os\n",
    "\n",
    "# Load in spDB from the local directory\n",
    "current_dir = os.getcwd()\n",
    "sys.path.append(current_dir + \"/../\")\n",
    "sys.path.append(current_dir + \"/../tests/integration/\")\n",
    "\n",
    "from spdb.spdb import spDB, load_db\n",
    "import helpers"
   ]
  },
  {
   "cell_type": "code",
   "execution_count": null,
   "metadata": {},
   "outputs": [],
   "source": [
    "api_key_id = \"cc99b87f866350b89fe9dbdde8db421f\"\n",
    "api_key_secret = \"VDyOlszmGvWTS8clU9IPyTiVqMlPRTnjUp5cAePGLR0\"\n",
    "\n",
    "import requests\n",
    "import base64\n",
    "\n",
    "# Define the token\n",
    "authToken = base64.b64encode((f\"{api_key_id}:{api_key_secret}\").encode(\"utf-8\")).decode(\"utf-8\")\n",
    "\n",
    "# Define the payload and make the query\n",
    "payload = {\n",
    "    \"knowledge_base_ids\": [\"cff59808-3184-4d2d-9b09-0ff757402daa\"],\n",
    "    \"query\": \"What are some financial modeling tools we can build for startups?\",\n",
    "    \"summarize_results\": True\n",
    "}\n",
    "response = requests.post(\n",
    "    \"https://api.superpowered-qa.com/v1/knowledge_bases/query\",\n",
    "    headers={\"Authorization\": f\"Bearer {authToken}\"},\n",
    "    json=payload\n",
    ")\n",
    "\n",
    "print(response.json())"
   ]
  },
  {
   "cell_type": "code",
   "execution_count": null,
   "metadata": {},
   "outputs": [],
   "source": [
    "import superpowered\n",
    "import os\n",
    "\n",
    "# Initialize API key and secret\n",
    "os.environ[\"SUPERPOWERED_API_KEY_ID\"]=\"INSERT_API_KEY_ID_HERE\"\n",
    "os.environ[\"SUPERPOWERED_API_KEY_SECRET\"]=\"INSERT_API_KEY_SECRET_HERE\"\n",
    "\n",
    "# Make the request for the desired chat thread and message\n",
    "response = superpowered.get_chat_response(\n",
    "    thread_id=\"a3797a86-427a-4e72-969c-704efaa22f80\",\n",
    "    input=\"What are some good resources to help find trail conditions?\",\n",
    ")\n",
    "\n",
    "# Print the response\n",
    "print (response[\"interaction\"][\"model_response\"][\"content\"])\n"
   ]
  },
  {
   "cell_type": "code",
   "execution_count": 6,
   "metadata": {},
   "outputs": [
    {
     "name": "stdout",
     "output_type": "stream",
     "text": [
      "There are several resources you can use to find trail conditions:\n",
      "\n",
      "1. Local Hiking Websites: Many regions have dedicated hiking websites or forums where hikers share information about trail conditions. These websites often have up-to-date reports from fellow hikers who have recently visited the trails.\n",
      "\n",
      "2. National Park or Forest Websites: If you're planning to hike in a national park or forest, their official websites usually provide information on trail conditions. They may have trail status updates, closures, or alerts due to weather, maintenance, or wildlife activity.\n",
      "\n",
      "3. Trail Apps: There are numerous trail apps available for smartphones that provide information on trail conditions. These apps often include user-generated reports, trail maps, and other helpful features. Some popular trail apps include AllTrails, Hiking Project, and Gaia GPS.\n",
      "\n",
      "4. Social Media: Following local hiking groups or organizations on social media platforms like Facebook or Instagram can be a great way to stay updated on trail conditions. These groups often share real-time information and photos from hikers who have recently visited the trails.\n",
      "\n",
      "5. Visitor Centers or Ranger Stations: If you're hiking in a popular area with visitor centers or ranger stations, they can be a valuable resource for obtaining trail condition information. The staff can provide you with the most current information and any necessary permits or restrictions.\n",
      "\n",
      "Remember, trail conditions can change rapidly due to weather, seasonal variations, or other factors. It's always a good idea to check multiple sources and be prepared for any potential challenges or hazards on the trail.\n"
     ]
    }
   ],
   "source": [
    "import requests\n",
    "import base64\n",
    "\n",
    "# Define the token\n",
    "api_key_id=\"INSERT_API_KEY_ID_HERE\"\n",
    "api_key_secret=\"INSERT_API_KEY_SECRET_HERE\"\n",
    "authToken = base64.b64encode((f\"{api_key_id}:{api_key_secret}\").encode(\"utf-8\")).decode(\"utf-8\")\n",
    "\n",
    "# Define the payload and make the query\n",
    "payload = {\n",
    "    \"input\": \"What are some good resources to help find trail conditions?\",\n",
    "}\n",
    "response = requests.post(\n",
    "    \"https://api.superpowered-qa.com/v1/chat/threads/a3797a86-427a-4e72-969c-704efaa22f80/get_response\",\n",
    "    headers={\"Authorization\": f\"Bearer {authToken}\"},\n",
    "    json=payload\n",
    ")\n",
    "\n",
    "print(response.json()[\"interaction\"][\"model_response\"][\"content\"])\n"
   ]
  },
  {
   "cell_type": "code",
   "execution_count": null,
   "metadata": {},
   "outputs": [],
   "source": [
    "# Load in the Fiqa test data\n",
    "vectors, text, queries, _ = helpers.fiqa_test_data()\n",
    "with open(current_dir + \"/../tests/data/fiqa_queries_text.pickle\", \"rb\") as f:\n",
    "    query_text = pickle.load(f)\n",
    "# Vectors needs to be a list when using FastAPI\n",
    "vectors = vectors.tolist()"
   ]
  },
  {
   "cell_type": "markdown",
   "metadata": {},
   "source": [
    "### Create the spDB object"
   ]
  },
  {
   "cell_type": "code",
   "execution_count": null,
   "metadata": {},
   "outputs": [],
   "source": [
    "# Create a new spDB\n",
    "\n",
    "db_name = \"fast_api_test\"\n",
    "url = \"http://0.0.0.0:8000/db/create\"\n",
    "response = requests.post(url, json={\"name\": db_name})\n",
    "print (response.text)"
   ]
  },
  {
   "cell_type": "code",
   "execution_count": null,
   "metadata": {},
   "outputs": [],
   "source": [
    "db_name = \"fiqa_test_1\"\n",
    "url = f\"http://0.0.0.0:8000/db/{db_name}/info\"\n",
    "response = requests.get(url)\n",
    "print (response.json())"
   ]
  },
  {
   "cell_type": "code",
   "execution_count": null,
   "metadata": {},
   "outputs": [],
   "source": [
    "# Remove a few vectors\n",
    "ids = [10, 11, 12, 13]\n",
    "url = f\"http://0.0.0.0:8000/db/{db_name}/remove\"\n",
    "response = requests.post(url, json={\"ids\": ids})\n",
    "print (response.text)"
   ]
  },
  {
   "cell_type": "markdown",
   "metadata": {},
   "source": [
    "### Add data to the spDB object\n",
    "\n",
    "Adding data to the spDB object using FastAPI must be done in batches. We recommend using a batch size of ~100. Pushing this number too high will result in a failure\n",
    "\n",
    "The data must also be a list. Numpy arrays are not a valid data type for FastAPI"
   ]
  },
  {
   "cell_type": "code",
   "execution_count": null,
   "metadata": {},
   "outputs": [],
   "source": [
    "# Add the data to the spDB in batches of 100\n",
    "batch_size = 1000\n",
    "data = [(vectors[i], {\"text\": text[i]}) for i in range(len(vectors))]\n",
    "\n",
    "url = f\"http://0.0.0.0:8000/db/{db_name}/add\"\n",
    "\n",
    "for i in range(0, 10000, batch_size):\n",
    "    print (i)\n",
    "    add_data = data[i:i+batch_size]\n",
    "    response = requests.post(url, json={\"add_data\": add_data})"
   ]
  },
  {
   "cell_type": "markdown",
   "metadata": {},
   "source": [
    "### Train the spDB object\n",
    "\n",
    "For this example, we are using PCA 256, compressed vector bytes of 32, and omitting OPQ\n",
    "\n",
    "For more information on these parameters, you can visit the Github Wiki [here](https://github.com/SuperpoweredAI/spDB/wiki/Tunable-parameters)"
   ]
  },
  {
   "cell_type": "code",
   "execution_count": null,
   "metadata": {},
   "outputs": [],
   "source": [
    "# Train the spDB\n",
    "\n",
    "url = f\"http://0.0.0.0:8000/db/{db_name}/train\"\n",
    "response = requests.post(url, json={\n",
    "    \"use_two_level_clustering\": False,\n",
    "    \"pca_dimension\": 256,\n",
    "    \"compressed_vector_bytes\": 32,\n",
    "    \"omit_opq\": True\n",
    "})\n",
    "print (response.text)"
   ]
  },
  {
   "cell_type": "markdown",
   "metadata": {},
   "source": [
    "### Query the trained index\n",
    "\n",
    "Make a test query using the `query` endpoint. The query vector must be converted to a list"
   ]
  },
  {
   "cell_type": "code",
   "execution_count": null,
   "metadata": {},
   "outputs": [],
   "source": [
    "url = f\"http://0.0.0.0:8000/db/{db_name}/query\"\n",
    "query_vector = queries[0].tolist()\n",
    "response = requests.post(url, json={\"query_vector\": query_vector})\n",
    "\n",
    "print (\"Query text:\", query_text[0])\n",
    "print (\"\")\n",
    "print (response.json()[\"metadata\"][0][\"text\"])"
   ]
  }
 ],
 "metadata": {
  "kernelspec": {
   "display_name": "Python 3.9.12 ('base')",
   "language": "python",
   "name": "python3"
  },
  "language_info": {
   "codemirror_mode": {
    "name": "ipython",
    "version": 3
   },
   "file_extension": ".py",
   "mimetype": "text/x-python",
   "name": "python",
   "nbconvert_exporter": "python",
   "pygments_lexer": "ipython3",
   "version": "3.9.12"
  },
  "orig_nbformat": 4,
  "vscode": {
   "interpreter": {
    "hash": "6493f77fe247bf2d19f0ba28dd5345ab8e8eb3b6587168c5c28be0d535e3568d"
   }
  }
 },
 "nbformat": 4,
 "nbformat_minor": 2
}
